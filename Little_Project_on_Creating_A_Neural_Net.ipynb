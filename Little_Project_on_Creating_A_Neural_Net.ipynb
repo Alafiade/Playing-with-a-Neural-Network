{
  "nbformat": 4,
  "nbformat_minor": 0,
  "metadata": {
    "colab": {
      "provenance": [],
      "authorship_tag": "ABX9TyO9pLHYImo96qjvjSo+2tqz",
      "include_colab_link": true
    },
    "kernelspec": {
      "name": "python3",
      "display_name": "Python 3"
    },
    "language_info": {
      "name": "python"
    }
  },
  "cells": [
    {
      "cell_type": "markdown",
      "metadata": {
        "id": "view-in-github",
        "colab_type": "text"
      },
      "source": [
        "<a href=\"https://colab.research.google.com/github/Alafiade/Playing-with-a-Neural-Network/blob/main/Little_Project_on_Creating_A_Neural_Net.ipynb\" target=\"_parent\"><img src=\"https://colab.research.google.com/assets/colab-badge.svg\" alt=\"Open In Colab\"/></a>"
      ]
    },
    {
      "cell_type": "markdown",
      "source": [
        "# **Creating a Fully connected layer Starting from  shallow then progressing to Deep**"
      ],
      "metadata": {
        "id": "-n6sUAx1K0UX"
      }
    },
    {
      "cell_type": "code",
      "source": [],
      "metadata": {
        "id": "TNdJpqygLGXj"
      },
      "execution_count": null,
      "outputs": []
    },
    {
      "cell_type": "markdown",
      "source": [
        "## **Shallow network**"
      ],
      "metadata": {
        "id": "XBe7SQEzLKxD"
      }
    },
    {
      "cell_type": "markdown",
      "source": [
        "importing libraries"
      ],
      "metadata": {
        "id": "3LW2tghcLVdl"
      }
    },
    {
      "cell_type": "code",
      "execution_count": 3,
      "metadata": {
        "id": "IGnGJYNFAar-"
      },
      "outputs": [],
      "source": [
        "import torch\n",
        "from torch import nn"
      ]
    },
    {
      "cell_type": "markdown",
      "source": [
        "Generating dummy data"
      ],
      "metadata": {
        "id": "aryqzj6aLavM"
      }
    },
    {
      "cell_type": "code",
      "source": [
        "input_image = torch.rand(3,28,28) #mimics the Mnest Fashion dataset\n",
        "print(input_image.size())"
      ],
      "metadata": {
        "colab": {
          "base_uri": "https://localhost:8080/"
        },
        "id": "loEb9wDXApqB",
        "outputId": "d431bc05-a48a-49d7-8256-83d138bc2fec"
      },
      "execution_count": 28,
      "outputs": [
        {
          "output_type": "stream",
          "name": "stdout",
          "text": [
            "torch.Size([3, 28, 28])\n"
          ]
        }
      ]
    },
    {
      "cell_type": "markdown",
      "source": [
        "Flattening our image from a 2D to a 1D array"
      ],
      "metadata": {
        "id": "kTMXcgtGLmpX"
      }
    },
    {
      "cell_type": "code",
      "source": [
        "flatten = nn.Flatten()\n",
        "flat = flatten(input_image)\n",
        "print(flat.size())"
      ],
      "metadata": {
        "colab": {
          "base_uri": "https://localhost:8080/"
        },
        "id": "6zNWmA1zA8y6",
        "outputId": "0e578b80-8a14-4220-9e4b-d7a414a7276b"
      },
      "execution_count": 5,
      "outputs": [
        {
          "output_type": "stream",
          "name": "stdout",
          "text": [
            "torch.Size([3, 784])\n"
          ]
        }
      ]
    },
    {
      "cell_type": "markdown",
      "source": [
        "Adding Linear mapping to our flatten data using the nn.Linear module"
      ],
      "metadata": {
        "id": "S67_uBxeLzf7"
      }
    },
    {
      "cell_type": "code",
      "source": [
        "layer_1= nn.Linear(in_features = 28*28 , out_features=128)\n",
        "hidden1 = layer_1(flat)\n",
        "print(hidden1.size())"
      ],
      "metadata": {
        "colab": {
          "base_uri": "https://localhost:8080/"
        },
        "id": "QDLp4BVUBToA",
        "outputId": "8fc1f8ca-6773-492a-eb6e-902c12c7c9a0"
      },
      "execution_count": 12,
      "outputs": [
        {
          "output_type": "stream",
          "name": "stdout",
          "text": [
            "torch.Size([3, 128])\n"
          ]
        }
      ]
    },
    {
      "cell_type": "markdown",
      "source": [
        "Adding Non linearity so that our model can understand Complex patterns"
      ],
      "metadata": {
        "id": "SOWQo3R1L9m0"
      }
    },
    {
      "cell_type": "code",
      "source": [
        "print(f'Before ReLU: {hidden1}\\n\\n')\n",
        "hidden1 = nn.ReLU()(hidden1)\n",
        "print('After ReLU: {hidden1}')"
      ],
      "metadata": {
        "colab": {
          "base_uri": "https://localhost:8080/"
        },
        "id": "GZn9Wav5B3OI",
        "outputId": "09714004-2d2a-4690-843c-9cf4eba96580"
      },
      "execution_count": 10,
      "outputs": [
        {
          "output_type": "stream",
          "name": "stdout",
          "text": [
            "Before ReLU: tensor([[ 0.9847,  0.4331, -0.7494, -0.2660,  0.1610,  0.1675,  0.8101,  0.6352,\n",
            "         -0.2812,  0.1707,  0.0094,  0.2718, -0.6356, -0.2201, -0.6386, -0.1304,\n",
            "         -0.6098, -0.0696, -0.0168, -0.0900],\n",
            "        [ 0.5783,  0.6421, -0.6930, -0.0131,  0.2008, -0.1661,  0.7435,  0.2372,\n",
            "         -0.3723,  0.1810, -0.0787, -0.0922, -0.4639, -0.0944, -0.3962, -0.0358,\n",
            "         -0.2400, -0.4919,  0.1878,  0.2054],\n",
            "        [ 0.7038,  0.8472, -0.4645, -0.6748,  0.0888, -0.1186,  0.6055,  0.4541,\n",
            "         -0.2872, -0.1757, -0.1355,  0.2997, -0.2939,  0.0793, -0.1816,  0.3876,\n",
            "         -0.3885,  0.0172, -0.0668, -0.1846]], grad_fn=<AddmmBackward0>)\n",
            "\n",
            "\n",
            "After ReLU: {hidden1}\n"
          ]
        }
      ]
    },
    {
      "cell_type": "markdown",
      "source": [
        "The Sequential module that allows us to organize our model"
      ],
      "metadata": {
        "id": "657-25mJMFjN"
      }
    },
    {
      "cell_type": "code",
      "source": [
        "model = nn.Sequential(\n",
        "    flatten,\n",
        "    layer_1,\n",
        "    nn.ReLU(),\n",
        "    nn.Linear(128,10)\n",
        "\n",
        ")\n",
        "\n",
        "input_image = torch.rand(3,28,28)\n",
        "logits = model(input_image)"
      ],
      "metadata": {
        "id": "ENGmD6qnCfaM"
      },
      "execution_count": 14,
      "outputs": []
    },
    {
      "cell_type": "markdown",
      "source": [
        "Softmax module that converts the final layer to probabilities\n"
      ],
      "metadata": {
        "id": "R-mZTDxDMN_z"
      }
    },
    {
      "cell_type": "code",
      "source": [
        "softmax = nn.Softmax(dim=1)\n",
        "pred_probab = softmax(logits)"
      ],
      "metadata": {
        "id": "0_LzPHnMD-GA"
      },
      "execution_count": 15,
      "outputs": []
    },
    {
      "cell_type": "markdown",
      "source": [
        "Printing Model's structure"
      ],
      "metadata": {
        "id": "-jLpH7MEMWXH"
      }
    },
    {
      "cell_type": "code",
      "source": [
        "print(f'Model structure: {model}\\n\\n')"
      ],
      "metadata": {
        "colab": {
          "base_uri": "https://localhost:8080/"
        },
        "id": "0e-zt2BqEKyA",
        "outputId": "5368aac1-0390-4c57-b0bc-b0f68022ddeb"
      },
      "execution_count": 16,
      "outputs": [
        {
          "output_type": "stream",
          "name": "stdout",
          "text": [
            "Model structure: Sequential(\n",
            "  (0): Flatten(start_dim=1, end_dim=-1)\n",
            "  (1): Linear(in_features=784, out_features=128, bias=True)\n",
            "  (2): ReLU()\n",
            "  (3): Linear(in_features=128, out_features=10, bias=True)\n",
            ")\n",
            "\n",
            "\n"
          ]
        }
      ]
    },
    {
      "cell_type": "markdown",
      "source": [
        "## **Medium  Layer**"
      ],
      "metadata": {
        "id": "O13-OAWBMesm"
      }
    },
    {
      "cell_type": "code",
      "source": [
        "model = nn.Sequential(\n",
        "    flatten,\n",
        "    layer_1,\n",
        "    nn.ReLU(),\n",
        "    nn.Linear(128,64),\n",
        "    nn.ReLU(),\n",
        "    nn.Linear(64,10)\n",
        ")\n",
        "\n",
        "input_image = torch.rand(3,28*28)\n",
        "logits = model(input_image)"
      ],
      "metadata": {
        "id": "iTntFINuFSzk"
      },
      "execution_count": 17,
      "outputs": []
    },
    {
      "cell_type": "code",
      "source": [
        "softmax = nn.Softmax(dim=1)\n",
        "pred_probab = softmax(logits)"
      ],
      "metadata": {
        "id": "BuL5zTb0GRMO"
      },
      "execution_count": 18,
      "outputs": []
    },
    {
      "cell_type": "code",
      "source": [
        "print(f'Model structure: {model}\\n\\n')"
      ],
      "metadata": {
        "colab": {
          "base_uri": "https://localhost:8080/"
        },
        "id": "tsKPmFcJGZ_T",
        "outputId": "8903edeb-3bdb-4072-f130-6f22e389df21"
      },
      "execution_count": 19,
      "outputs": [
        {
          "output_type": "stream",
          "name": "stdout",
          "text": [
            "Model structure: Sequential(\n",
            "  (0): Flatten(start_dim=1, end_dim=-1)\n",
            "  (1): Linear(in_features=784, out_features=128, bias=True)\n",
            "  (2): ReLU()\n",
            "  (3): Linear(in_features=128, out_features=64, bias=True)\n",
            "  (4): ReLU()\n",
            "  (5): Linear(in_features=64, out_features=10, bias=True)\n",
            ")\n",
            "\n",
            "\n"
          ]
        }
      ]
    },
    {
      "cell_type": "markdown",
      "source": [
        "## **Deep Layer**"
      ],
      "metadata": {
        "id": "vEhZxWtOMwP-"
      }
    },
    {
      "cell_type": "code",
      "source": [
        "model = nn.Sequential(\n",
        "    flatten,\n",
        "    layer_1,\n",
        "    nn.ReLU(),\n",
        "    nn.Linear(128,64),\n",
        "    nn.ReLU(),\n",
        "    nn.Linear(64,32),\n",
        "    nn.ReLU(),\n",
        "    nn.Linear(32,10)\n",
        "\n",
        ")\n",
        "\n",
        "input_image = torch.randn (3,28,28)\n",
        "logits = model(input_image)"
      ],
      "metadata": {
        "id": "nNzT-bSvHr5d"
      },
      "execution_count": 25,
      "outputs": []
    },
    {
      "cell_type": "code",
      "source": [
        "softmax = nn.Softmax(dim=1)\n",
        "pred_probab = softmax(logits)"
      ],
      "metadata": {
        "id": "fhSzdQ7TKO0t"
      },
      "execution_count": 26,
      "outputs": []
    },
    {
      "cell_type": "code",
      "source": [
        "print(f'Model structure: {model}\\n\\n')"
      ],
      "metadata": {
        "colab": {
          "base_uri": "https://localhost:8080/"
        },
        "id": "UiC05iNuKYRG",
        "outputId": "1c3095dc-1ba9-41b6-c759-178e726e40f2"
      },
      "execution_count": 27,
      "outputs": [
        {
          "output_type": "stream",
          "name": "stdout",
          "text": [
            "Model structure: Sequential(\n",
            "  (0): Flatten(start_dim=1, end_dim=-1)\n",
            "  (1): Linear(in_features=784, out_features=128, bias=True)\n",
            "  (2): ReLU()\n",
            "  (3): Linear(in_features=128, out_features=64, bias=True)\n",
            "  (4): ReLU()\n",
            "  (5): Linear(in_features=64, out_features=32, bias=True)\n",
            "  (6): ReLU()\n",
            "  (7): Linear(in_features=32, out_features=10, bias=True)\n",
            ")\n",
            "\n",
            "\n"
          ]
        }
      ]
    }
  ]
}